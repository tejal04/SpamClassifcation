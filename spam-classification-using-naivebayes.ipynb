{
 "cells": [
  {
   "cell_type": "markdown",
   "id": "bc97d6da",
   "metadata": {
    "id": "bc97d6da"
   },
   "source": [
    "# Spam Detection using Naive Bayes Algorithm\n",
    "\n",
    "With the increasing prevalence of unsolicited and potentially harmful messages, it has become crucial to develop effective techniques for automated spam detection.\n",
    "\n",
    "In this project, we leverage the Naive Bayes algorithm, a popular and efficient machine learning algorithm for text classification tasks. The Naive Bayes algorithm is well-suited for spam detection due to its simplicity and ability to handle high-dimensional data."
   ]
  },
  {
   "cell_type": "markdown",
   "id": "6849fbcf",
   "metadata": {},
   "source": [
    "### Setup environment"
   ]
  },
  {
   "cell_type": "code",
   "execution_count": 57,
   "id": "a03450ac",
   "metadata": {
    "colab": {
     "base_uri": "https://localhost:8080/"
    },
    "id": "a03450ac",
    "outputId": "b2252310-421e-4a7a-e009-283aed1d5616"
   },
   "outputs": [
    {
     "name": "stderr",
     "output_type": "stream",
     "text": [
      "[nltk_data] Downloading package stopwords to /Users/tee/nltk_data...\n",
      "[nltk_data]   Package stopwords is already up-to-date!\n"
     ]
    }
   ],
   "source": [
    "import numpy as np\n",
    "import pandas as pd\n",
    "\n",
    "import re\n",
    "import math \n",
    "import string\n",
    "\n",
    "import seaborn as sns\n",
    "import matplotlib.pyplot as plt\n",
    "\n",
    "from sklearn.utils import resample\n",
    "from sklearn.model_selection import train_test_split\n",
    "\n",
    "import nltk\n",
    "from nltk.corpus import stopwords\n",
    "from nltk.stem import PorterStemmer\n",
    "from nltk.tokenize import word_tokenize\n",
    "from nltk.corpus.reader.knbc import test\n",
    "nltk.download('stopwords')\n",
    "\n",
    "import warnings\n",
    "warnings.filterwarnings(\"ignore\")"
   ]
  },
  {
   "cell_type": "markdown",
   "id": "fc584cc2",
   "metadata": {
    "id": "fc584cc2"
   },
   "source": [
    "### Load the data"
   ]
  },
  {
   "cell_type": "code",
   "execution_count": 2,
   "id": "3c9ffbf5",
   "metadata": {
    "id": "3c9ffbf5"
   },
   "outputs": [
    {
     "data": {
      "text/html": [
       "<div>\n",
       "<style scoped>\n",
       "    .dataframe tbody tr th:only-of-type {\n",
       "        vertical-align: middle;\n",
       "    }\n",
       "\n",
       "    .dataframe tbody tr th {\n",
       "        vertical-align: top;\n",
       "    }\n",
       "\n",
       "    .dataframe thead th {\n",
       "        text-align: right;\n",
       "    }\n",
       "</style>\n",
       "<table border=\"1\" class=\"dataframe\">\n",
       "  <thead>\n",
       "    <tr style=\"text-align: right;\">\n",
       "      <th></th>\n",
       "      <th>v1</th>\n",
       "      <th>v2</th>\n",
       "    </tr>\n",
       "  </thead>\n",
       "  <tbody>\n",
       "    <tr>\n",
       "      <th>0</th>\n",
       "      <td>ham</td>\n",
       "      <td>Go until jurong point, crazy.. Available only ...</td>\n",
       "    </tr>\n",
       "    <tr>\n",
       "      <th>1</th>\n",
       "      <td>ham</td>\n",
       "      <td>Ok lar... Joking wif u oni...</td>\n",
       "    </tr>\n",
       "    <tr>\n",
       "      <th>2</th>\n",
       "      <td>spam</td>\n",
       "      <td>Free entry in 2 a wkly comp to win FA Cup fina...</td>\n",
       "    </tr>\n",
       "    <tr>\n",
       "      <th>3</th>\n",
       "      <td>ham</td>\n",
       "      <td>U dun say so early hor... U c already then say...</td>\n",
       "    </tr>\n",
       "    <tr>\n",
       "      <th>4</th>\n",
       "      <td>ham</td>\n",
       "      <td>Nah I don't think he goes to usf, he lives aro...</td>\n",
       "    </tr>\n",
       "  </tbody>\n",
       "</table>\n",
       "</div>"
      ],
      "text/plain": [
       "     v1                                                 v2\n",
       "0   ham  Go until jurong point, crazy.. Available only ...\n",
       "1   ham                      Ok lar... Joking wif u oni...\n",
       "2  spam  Free entry in 2 a wkly comp to win FA Cup fina...\n",
       "3   ham  U dun say so early hor... U c already then say...\n",
       "4   ham  Nah I don't think he goes to usf, he lives aro..."
      ]
     },
     "execution_count": 2,
     "metadata": {},
     "output_type": "execute_result"
    }
   ],
   "source": [
    "# Reading the data and removing columns that are not important. \n",
    "df = pd.read_csv('spam.csv', sep = ',', encoding = 'latin-1', usecols = lambda col: col not in [\"Unnamed: 2\", \"Unnamed: 3\", \"Unnamed: 4\"] )\n",
    "df.head()"
   ]
  },
  {
   "cell_type": "code",
   "execution_count": 3,
   "id": "aecf75db",
   "metadata": {
    "id": "aecf75db"
   },
   "outputs": [
    {
     "data": {
      "text/plain": [
       "Index(['spam_or_ham', 'message'], dtype='object')"
      ]
     },
     "execution_count": 3,
     "metadata": {},
     "output_type": "execute_result"
    }
   ],
   "source": [
    "# Renaming the columns\n",
    "# v1 >>> \"spam_or_ham\" and v2 >>> \"message\"\n",
    "df = df.rename(columns = {\"v1\" : \"spam_or_ham\" , \"v2\" : \"message\"})  \n",
    "df.columns"
   ]
  },
  {
   "cell_type": "code",
   "execution_count": 4,
   "id": "4837e2ce",
   "metadata": {},
   "outputs": [
    {
     "name": "stdout",
     "output_type": "stream",
     "text": [
      "<class 'pandas.core.frame.DataFrame'>\n",
      "RangeIndex: 5572 entries, 0 to 5571\n",
      "Data columns (total 2 columns):\n",
      " #   Column       Non-Null Count  Dtype \n",
      "---  ------       --------------  ----- \n",
      " 0   spam_or_ham  5572 non-null   object\n",
      " 1   message      5572 non-null   object\n",
      "dtypes: object(2)\n",
      "memory usage: 87.2+ KB\n"
     ]
    }
   ],
   "source": [
    "df.info()"
   ]
  },
  {
   "cell_type": "markdown",
   "id": "edbdda57",
   "metadata": {},
   "source": [
    "### EDA"
   ]
  },
  {
   "cell_type": "markdown",
   "id": "02c5af1d",
   "metadata": {},
   "source": [
    "#### Exploring Target Variable - Ham or Spam"
   ]
  },
  {
   "cell_type": "code",
   "execution_count": 5,
   "id": "22f77b3e",
   "metadata": {},
   "outputs": [
    {
     "data": {
      "text/plain": [
       "2"
      ]
     },
     "execution_count": 5,
     "metadata": {},
     "output_type": "execute_result"
    }
   ],
   "source": [
    "#number of unique target values\n",
    "df.spam_or_ham.nunique()"
   ]
  },
  {
   "cell_type": "code",
   "execution_count": 6,
   "id": "e8856308",
   "metadata": {},
   "outputs": [
    {
     "data": {
      "text/plain": [
       "array(['ham', 'spam'], dtype=object)"
      ]
     },
     "execution_count": 6,
     "metadata": {},
     "output_type": "execute_result"
    }
   ],
   "source": [
    "#unique values for the target\n",
    "df.spam_or_ham.unique()"
   ]
  },
  {
   "cell_type": "code",
   "execution_count": 7,
   "id": "29f85a49",
   "metadata": {},
   "outputs": [
    {
     "name": "stdout",
     "output_type": "stream",
     "text": [
      "<class 'pandas.core.frame.DataFrame'>\n",
      "RangeIndex: 5572 entries, 0 to 5571\n",
      "Data columns (total 2 columns):\n",
      " #   Column       Non-Null Count  Dtype   \n",
      "---  ------       --------------  -----   \n",
      " 0   spam_or_ham  5572 non-null   category\n",
      " 1   message      5572 non-null   object  \n",
      "dtypes: category(1), object(1)\n",
      "memory usage: 49.2+ KB\n"
     ]
    }
   ],
   "source": [
    "#chaning target data type to more suitable type = category\n",
    "df.spam_or_ham = df.spam_or_ham.astype('category')\n",
    "df.info()"
   ]
  },
  {
   "cell_type": "code",
   "execution_count": 8,
   "id": "c152e8a4",
   "metadata": {
    "colab": {
     "base_uri": "https://localhost:8080/",
     "height": 353
    },
    "id": "c152e8a4",
    "outputId": "672763bc-5cb9-4b0a-eecb-6881deb3802c"
   },
   "outputs": [
    {
     "data": {
      "image/png": "[encoded data removed]",
      "text/plain": [
       "<Figure size 640x480 with 1 Axes>"
      ]
     },
     "metadata": {},
     "output_type": "display_data"
    },
    {
     "name": "stdout",
     "output_type": "stream",
     "text": [
      "ham     4825\n",
      "spam     747\n",
      "Name: spam_or_ham, dtype: int64\n"
     ]
    }
   ],
   "source": [
    "plt.title(\"Spam vs Ham messages frequency\")\n",
    "sns.countplot(data=df, x ='spam_or_ham' ) \n",
    "plt.show()\n",
    "\n",
    "print(df['spam_or_ham'].value_counts())"
   ]
  },
  {
   "cell_type": "markdown",
   "id": "a563136d",
   "metadata": {},
   "source": [
    "There is high imbalance in frequency of class labels. We have more examples of ham while very few examples of spam messages.\n",
    "<br>\n",
    "We will be using Naive Bayes for our analysis, and we know that this algorithm is not robust to class imbalance. \n",
    "Thus, we need to resample the data to have uniform distribution of class labels."
   ]
  },
  {
   "cell_type": "markdown",
   "id": "9b8549f2",
   "metadata": {
    "id": "9b8549f2"
   },
   "source": [
    "### Sampling"
   ]
  },
  {
   "cell_type": "code",
   "execution_count": 9,
   "id": "80f27192",
   "metadata": {
    "colab": {
     "base_uri": "https://localhost:8080/"
    },
    "id": "80f27192",
    "outputId": "20e462ea-0d77-4bb5-9a6f-640cf851722c"
   },
   "outputs": [
    {
     "name": "stdout",
     "output_type": "stream",
     "text": [
      "Inital shape: \n",
      "Original data : (5572, 2)\n",
      "Majority class (ham): (4825, 2)\n",
      "Minority class (spam): (747, 2)\n",
      "\n",
      "Up samping spam instances :  (4825, 2)\n",
      "\n",
      "Sampled data : (9650, 2)\n"
     ]
    }
   ],
   "source": [
    "df_majority = df[df['spam_or_ham'] == 'ham']\n",
    "df_minority = df[df['spam_or_ham'] == 'spam']\n",
    "print(\"Inital shape: \")\n",
    "print(\"Original data :\", df.shape)\n",
    "print(\"Majority class (ham):\", df_majority.shape)\n",
    "print(\"Minority class (spam):\", df_minority.shape)\n",
    "\n",
    "spam_upsample = resample(df_minority, replace = True, \n",
    "                        n_samples = df_majority.shape[0],\n",
    "                        random_state = 101)\n",
    "print()\n",
    "print(\"Up samping spam instances : \", spam_upsample.shape)\n",
    "\n",
    "df_upsampled = pd.concat([ df_majority, spam_upsample])  \n",
    "df_upsampled = df_upsampled.sample(frac = 1)\n",
    "print()\n",
    "print(\"Sampled data :\", df_upsampled.shape)"
   ]
  },
  {
   "cell_type": "code",
   "execution_count": 10,
   "id": "6a9329bb",
   "metadata": {
    "colab": {
     "base_uri": "https://localhost:8080/"
    },
    "id": "6a9329bb",
    "outputId": "e4529411-eece-4a8c-9061-d78a2b98d7a4"
   },
   "outputs": [
    {
     "data": {
      "text/plain": [
       "ham     4825\n",
       "spam    4825\n",
       "Name: spam_or_ham, dtype: int64"
      ]
     },
     "execution_count": 10,
     "metadata": {},
     "output_type": "execute_result"
    }
   ],
   "source": [
    "#Ensure the distribution is equal after sampling\n",
    "df_upsampled.spam_or_ham.value_counts()"
   ]
  },
  {
   "cell_type": "code",
   "execution_count": 74,
   "id": "66945335",
   "metadata": {},
   "outputs": [
    {
     "data": {
      "image/png": "[encoded data removed]",
      "text/plain": [
       "<Figure size 640x480 with 1 Axes>"
      ]
     },
     "metadata": {},
     "output_type": "display_data"
    }
   ],
   "source": [
    "sns.countplot(data=df_upsampled, x='spam_or_ham')\n",
    "plt.title(\"After Sampling : Spam vs Ham messages frequency\")\n",
    "plt.show()"
   ]
  },
  {
   "cell_type": "markdown",
   "id": "a2b22a84",
   "metadata": {},
   "source": [
    "### Train - Test Partition"
   ]
  },
  {
   "cell_type": "code",
   "execution_count": 11,
   "id": "8969f1df",
   "metadata": {},
   "outputs": [
    {
     "name": "stdout",
     "output_type": "stream",
     "text": [
      "Train set :  (7720,) (7720,)\n",
      "Test set :  (1930,) (1930,)\n"
     ]
    }
   ],
   "source": [
    "X = df_upsampled.message\n",
    "y = df_upsampled.spam_or_ham\n",
    "\n",
    "X_train, X_test, y_train, y_test = train_test_split(X, y, test_size=0.2, random_state=42, stratify=y)\n",
    "print(\"Train set : \", X_train.shape, y_train.shape)\n",
    "print(\"Test set : \", X_test.shape, y_test.shape)"
   ]
  },
  {
   "cell_type": "code",
   "execution_count": 12,
   "id": "21a31a71",
   "metadata": {},
   "outputs": [
    {
     "data": {
      "text/plain": [
       "ham     3860\n",
       "spam    3860\n",
       "Name: spam_or_ham, dtype: int64"
      ]
     },
     "execution_count": 12,
     "metadata": {},
     "output_type": "execute_result"
    }
   ],
   "source": [
    "#stratify ensures consistent distribution of target variable with respect to original distribution\n",
    "y_train.value_counts()"
   ]
  },
  {
   "cell_type": "code",
   "execution_count": 13,
   "id": "2beae1d6",
   "metadata": {
    "colab": {
     "base_uri": "https://localhost:8080/"
    },
    "id": "2beae1d6",
    "outputId": "c907927f-5402-4ee1-9b41-18134505ebdb"
   },
   "outputs": [
    {
     "data": {
      "text/plain": [
       "ham     965\n",
       "spam    965\n",
       "Name: spam_or_ham, dtype: int64"
      ]
     },
     "execution_count": 13,
     "metadata": {},
     "output_type": "execute_result"
    }
   ],
   "source": [
    "y_test.value_counts()"
   ]
  },
  {
   "cell_type": "markdown",
   "id": "95dbb652",
   "metadata": {},
   "source": [
    "### Preprocess the text\n",
    "1. Text data contains a lot of redundant and unncessary information like stopwords, links, punctations. <br>\n",
    "2. Uniform case of all the words. \"Hello\" is same as \"hello\". <br>\n",
    "3. Perform stemming. The stem of the words eating, eats, eaten is eat."
   ]
  },
  {
   "cell_type": "code",
   "execution_count": 14,
   "id": "bd4ce1e6",
   "metadata": {
    "colab": {
     "base_uri": "https://localhost:8080/"
    },
    "id": "bd4ce1e6",
    "outputId": "c7835d3f-790a-451a-8f2e-b6f7cdd43843"
   },
   "outputs": [],
   "source": [
    "def clean_message(message):\n",
    "    '''\n",
    "    Input:\n",
    "        message: a string containing a message.\n",
    "    Output:\n",
    "        messages_cleaned: a list of words containing the processed message. \n",
    "    '''\n",
    "    \n",
    "    stopwords = nltk.corpus.stopwords.words('english')\n",
    "    ps = nltk.PorterStemmer()\n",
    "    \n",
    "    message = re.sub(r\"(www|http:|https:)+[\\S]+[\\w]+\", \"\", message)\n",
    "    messages_cleaned = \"\".join([word.lower() for word in message if word not in string.punctuation])\n",
    "    tokens = re.split(\"\\W+\",messages_cleaned)\n",
    "    messages_cleaned = [ps.stem(word) for word in tokens if word not in stopwords]\n",
    "\n",
    "    return messages_cleaned"
   ]
  },
  {
   "cell_type": "code",
   "execution_count": 15,
   "id": "3ce6cade",
   "metadata": {},
   "outputs": [
    {
     "name": "stdout",
     "output_type": "stream",
     "text": [
      "processed string:  ['hello', 'test', 'clean', 'function', 'hope', 'work', 'okay', 'work']\n"
     ]
    }
   ],
   "source": [
    "#test on random string\n",
    "test_str = \"hello! Testing CLEAN function. I hope it works! http://testurl.com www.wow.com okay! working...\"\n",
    "print(\"processed string: \", clean_message(test_str))"
   ]
  },
  {
   "cell_type": "code",
   "execution_count": 16,
   "id": "a090b864",
   "metadata": {},
   "outputs": [
    {
     "name": "stdout",
     "output_type": "stream",
     "text": [
      "['get', 'offer', 'upto', '20']\n",
      "['come']\n",
      "['click', 'link', '']\n",
      "['get', 'latest', 'car']\n",
      "['canva', 'class', 'schedul']\n"
     ]
    }
   ],
   "source": [
    "messages = ['get offer upto 20%', 'I am coming now', 'Click on the link www.viv', 'get a latest car', 'canvas class scheduled']\n",
    "for m in messages:\n",
    "    print(clean_message(m))"
   ]
  },
  {
   "cell_type": "code",
   "execution_count": 17,
   "id": "3e598471",
   "metadata": {},
   "outputs": [
    {
     "name": "stdout",
     "output_type": "stream",
     "text": [
      "Original message:  SMS. ac JSco: Energy is high, but u may not know where 2channel it. 2day ur leadership skills r strong. Psychic? Reply ANS w/question. End? Reply END JSCO\n",
      "\n",
      "Processed message:  ['sm', 'ac', 'jsco', 'energi', 'high', 'u', 'may', 'know', '2channel', '2day', 'ur', 'leadership', 'skill', 'r', 'strong', 'psychic', 'repli', 'an', 'wquestion', 'end', 'repli', 'end', 'jsco']\n"
     ]
    }
   ],
   "source": [
    "#try on train data sample\n",
    "custom_message = X_train.iloc[0]\n",
    "print(\"Original message: \",custom_message)\n",
    "print()\n",
    "print(\"Processed message: \",clean_message(custom_message))"
   ]
  },
  {
   "cell_type": "markdown",
   "id": "29a2249d",
   "metadata": {
    "id": "29a2249d"
   },
   "source": [
    "### Encoding class label\n",
    "We have outputs as 'ham' or 'spam'. In the cell below, we convert it to a numerical format. "
   ]
  },
  {
   "cell_type": "code",
   "execution_count": 20,
   "id": "bcdc2b2c",
   "metadata": {
    "id": "bcdc2b2c"
   },
   "outputs": [],
   "source": [
    "output_map = {'ham': 0, 'spam': 1}\n",
    "y_train = y_train.map(output_map)\n",
    "y_test = y_test.map(output_map)"
   ]
  },
  {
   "cell_type": "markdown",
   "id": "39c5fd72",
   "metadata": {},
   "source": [
    "### Compute probability of occurrence of a word, for the given class label\n",
    "- The probability of occurrence of a word, given that the output is 'spam'.\n",
    "- The probability of occurence of a word, given that the output is 'ham'."
   ]
  },
  {
   "cell_type": "code",
   "execution_count": 21,
   "id": "5de61f77",
   "metadata": {
    "id": "5de61f77"
   },
   "outputs": [],
   "source": [
    "def message_counter(output_occurrence, messages, spam_or_ham):\n",
    "    '''\n",
    "    Params:\n",
    "        output_occurrence: a dictionary that will be used to map each pair to its frequency\n",
    "        messages: a list of messages\n",
    "        spam_or_ham: a list corresponding to the sentiment of each message (either 0 or 1)\n",
    "    Return:\n",
    "        output: a dictionary mapping each pair to its frequency\n",
    "    '''\n",
    "    for label, message in zip(spam_or_ham, messages):\n",
    "        for word in clean_message(message):\n",
    "            key = (word,label)\n",
    "            if key in output_occurrence :\n",
    "                  output_occurrence[key] += 1 #{word,label : count}\n",
    "            else :\n",
    "                  output_occurrence[key] = 1\n",
    "    return output_occurrence"
   ]
  },
  {
   "cell_type": "code",
   "execution_count": 22,
   "id": "07a4c58a",
   "metadata": {
    "colab": {
     "base_uri": "https://localhost:8080/"
    },
    "id": "07a4c58a",
    "outputId": "aad76bdb-3a29-4afc-f571-c47f09de082c"
   },
   "outputs": [
    {
     "data": {
      "text/plain": [
       "{('get', 1): 2,\n",
       " ('offer', 1): 1,\n",
       " ('upto', 1): 1,\n",
       " ('20', 1): 1,\n",
       " ('come', 0): 1,\n",
       " ('click', 1): 1,\n",
       " ('link', 1): 1,\n",
       " ('', 1): 1,\n",
       " ('latest', 1): 1,\n",
       " ('car', 1): 1,\n",
       " ('canva', 0): 1,\n",
       " ('class', 0): 1,\n",
       " ('schedul', 0): 1}"
      ]
     },
     "execution_count": 22,
     "metadata": {},
     "output_type": "execute_result"
    }
   ],
   "source": [
    "# Testing with random messages\n",
    "result = {}\n",
    "messages = ['get offer upto 20%', 'I am coming now', 'Click on the link www.viv', 'get a latest car', 'canvas class scheduled']\n",
    "cls = [1, 0, 1, 1, 0]\n",
    "message_counter(result,messages, cls)"
   ]
  },
  {
   "cell_type": "markdown",
   "id": "1af5b0aa",
   "metadata": {},
   "source": [
    "### Frequency Dictionary\n",
    "- the frequency of occurrence of word given that a message is 'spam'.\n",
    "- the frequence of occurence of word given that a message is 'ham'."
   ]
  },
  {
   "cell_type": "code",
   "execution_count": 48,
   "id": "9bc62e13",
   "metadata": {
    "id": "9bc62e13"
   },
   "outputs": [
    {
     "name": "stdout",
     "output_type": "stream",
     "text": [
      "('sm', 1) : 134\n",
      "('ac', 1) : 28\n",
      "('jsco', 1) : 12\n",
      "('energi', 1) : 22\n",
      "('high', 1) : 13\n"
     ]
    }
   ],
   "source": [
    "def print_dict_few(dict_data, max_count):\n",
    "    count = 0\n",
    "    for key, value in dict_data.items():\n",
    "        print(key, \":\", value)\n",
    "        count += 1\n",
    "        if count == max_count:\n",
    "            break\n",
    "\n",
    "freqs = message_counter({}, X_train, y_train)\n",
    "print_dict_few(freqs, 5)"
   ]
  },
  {
   "cell_type": "code",
   "execution_count": 18,
   "id": "eb282b81",
   "metadata": {
    "id": "eb282b81"
   },
   "outputs": [],
   "source": [
    "def find_occurrence(frequency, word, label):\n",
    "    '''\n",
    "    Params:\n",
    "        frequency: a dictionary with the frequency of each pair (or tuple)\n",
    "        word: the word to look up\n",
    "        label: the label corresponding to the word\n",
    "    Return:\n",
    "        n: the number of times the word with its corresponding label appears.\n",
    "    '''\n",
    "    key = (word,label)\n",
    "    #print(key)\n",
    "    if key in frequency.keys():\n",
    "        n = frequency[key] \n",
    "    else :\n",
    "        n = 0\n",
    "    return n"
   ]
  },
  {
   "cell_type": "code",
   "execution_count": 24,
   "id": "607edf5b",
   "metadata": {},
   "outputs": [
    {
     "data": {
      "text/plain": [
       "22"
      ]
     },
     "execution_count": 24,
     "metadata": {},
     "output_type": "execute_result"
    }
   ],
   "source": [
    "find_occurrence(freqs, \"energi\", 1)"
   ]
  },
  {
   "cell_type": "markdown",
   "id": "942d6034",
   "metadata": {},
   "source": [
    "### Train Naive Bayes\n",
    "Calculate Log Likelihood and Log prior values"
   ]
  },
  {
   "cell_type": "code",
   "execution_count": 49,
   "id": "a7f280e3",
   "metadata": {
    "id": "a7f280e3"
   },
   "outputs": [],
   "source": [
    "def generate_vocab(data):\n",
    "      '''\n",
    "      generates vocab from frequency dict\n",
    "      '''\n",
    "      vocab = set()\n",
    "      for pair in data:\n",
    "        word = pair[0]\n",
    "        vocab.add(word)\n",
    "      return vocab\n",
    "\n",
    "def train_naive_bayes(frequency_dict, train_x, train_y):\n",
    "    '''\n",
    "    Input:\n",
    "        freqs: dictionary from (word, label) to how often the word appears\n",
    "        train_x: a list of messages\n",
    "        train_y: a list of labels correponding to the messages (0,1)\n",
    "    Output:\n",
    "        logprior: the log prior. (equation 3 above)\n",
    "        loglikelihood: the log likelihood of you Naive bayes equation. (equation 6 above)\n",
    "    '''\n",
    "    loglikelihood = {}\n",
    "    logprior = 0\n",
    "\n",
    "    # calculate V, the number of unique words in the vocabulary\n",
    "    vocab = generate_vocab(freqs)\n",
    "    V = len(vocab)\n",
    "\n",
    "    # calculate num_pos and num_neg => the total number of positive and negative words for all documents\n",
    "    num_pos = num_neg = 0\n",
    "    for pair in frequency_dict.keys():\n",
    "\n",
    "        # if the label is positive (greater than zero)\n",
    "        if pair[1] == 1:\n",
    "            # Increment the number of positive words by the count for this (word, label) pair\n",
    "            num_pos = num_pos + 1\n",
    "        # else, the label is negative\n",
    "        else:\n",
    "            # increment the number of negative words by the count for this (word,label) pair\n",
    "            num_neg = num_neg + 1\n",
    "\n",
    "    # Calculate num_doc, the number of documents\n",
    "    num_doc = len(train_y)\n",
    "\n",
    "    # Calculate D_pos, the number of positive documents \n",
    "    pos_num_docs = len([ y for y in y_train if y == 1])\n",
    "\n",
    "    # Calculate D_neg, the number of negative documents \n",
    "    neg_num_docs = len([ y for y in y_train if y == 0])\n",
    "\n",
    "    # Calculate logprior\n",
    "    logprior = np.log(pos_num_docs) - np.log(neg_num_docs)\n",
    "\n",
    "    print(\"+\",num_pos)\n",
    "    print(\"-\",num_neg)\n",
    "    print(\"+doc\",pos_num_docs)\n",
    "    print(\"-doc\",neg_num_docs)\n",
    "    print(\"doc\", num_doc)\n",
    "    print(\"vocab\", V)\n",
    "    \n",
    "    # For each word in the vocabulary...\n",
    "    for word in vocab:\n",
    "        # get the positive and negative frequency of the word\n",
    "        freq_pos = find_occurrence(frequency_dict,word,1)\n",
    "        freq_neg = find_occurrence(frequency_dict,word,0)\n",
    "\n",
    "        # calculate the probability that each word is positive, and negative\n",
    "        p_w_pos = (freq_pos+1)/(num_pos + V)\n",
    "        p_w_neg = (freq_neg+1)/(num_neg + V)\n",
    "\n",
    "        # calculate the log likelihood of the word\n",
    "        loglikelihood[word] = np.log(p_w_pos/p_w_neg)\n",
    "\n",
    "    return logprior, loglikelihood"
   ]
  },
  {
   "cell_type": "code",
   "execution_count": 51,
   "id": "1561d892",
   "metadata": {
    "colab": {
     "base_uri": "https://localhost:8080/"
    },
    "id": "1561d892",
    "outputId": "34ba69ae-64c9-4973-bb92-50979003276e"
   },
   "outputs": [
    {
     "name": "stdout",
     "output_type": "stream",
     "text": [
      "+ 2629\n",
      "- 5500\n",
      "+doc 3860\n",
      "-doc 3860\n",
      "doc 7720\n",
      "vocab 7277\n"
     ]
    }
   ],
   "source": [
    "logprior, loglikelihood = train_naive_bayes(freqs, X_train, y_train)"
   ]
  },
  {
   "cell_type": "code",
   "execution_count": 53,
   "id": "4fa58f3c",
   "metadata": {},
   "outputs": [
    {
     "name": "stdout",
     "output_type": "stream",
     "text": [
      "Log prior :  0.0\n",
      "Log likelihood :  7277\n"
     ]
    }
   ],
   "source": [
    "print(\"Log prior : \", logprior)\n",
    "print(\"Log likelihood : \", len(loglikelihood))"
   ]
  },
  {
   "cell_type": "markdown",
   "id": "4171280f",
   "metadata": {},
   "source": [
    "### Predictions\n",
    "The output is 1 (spam) if the sum of the log likelihood value is greater than 0 and 0 (ham) if the sum of the log likelihood is less than or equal to 0. "
   ]
  },
  {
   "cell_type": "code",
   "execution_count": 55,
   "id": "b692c2f9",
   "metadata": {
    "id": "b692c2f9"
   },
   "outputs": [],
   "source": [
    "def naive_bayes_predict(message, logprior, loglikelihood):\n",
    "    '''\n",
    "    Params:\n",
    "        message: a string\n",
    "        logprior: a number\n",
    "        loglikelihood: a dictionary of words mapping to numbers\n",
    "    Return:\n",
    "        total_prob: the sum of all the loglikelihoods of each word in the message (if found in the dictionary) + logprior (a number)\n",
    "\n",
    "    '''\n",
    "    # process the message to get a list of words\n",
    "    word_l = clean_message(message)\n",
    "\n",
    "    # initialize probability to zero\n",
    "    total_prob = 0\n",
    "\n",
    "    # add the logprior\n",
    "    total_prob += (logprior)\n",
    "\n",
    "    for word in word_l:\n",
    "\n",
    "        # check if the word exists in the loglikelihood dictionary\n",
    "        if word in loglikelihood.keys():\n",
    "            # add the log likelihood of that word to the probability\n",
    "            #print(loglikelihood[word], word)\n",
    "            total_prob = total_prob + loglikelihood[word]\n",
    "            total_prob = format_log(total_prob)\n",
    "    return total_prob\n",
    "\n",
    "def format_log(prob):\n",
    "  if prob > 0 :\n",
    "    return 1\n",
    "  else :\n",
    "    return 0"
   ]
  },
  {
   "cell_type": "code",
   "execution_count": 56,
   "id": "4b170333",
   "metadata": {
    "colab": {
     "base_uri": "https://localhost:8080/"
    },
    "id": "4b170333",
    "outputId": "930dfc26-5eda-4741-9883-d2ad3dbb8847"
   },
   "outputs": [
    {
     "name": "stdout",
     "output_type": "stream",
     "text": [
      "The expected output for message \" She smiled. \" is 0\n",
      "The expected output for message \" Offer! Limited period! free iphone. \" is 1\n"
     ]
    }
   ],
   "source": [
    "msg = 'She smiled.'\n",
    "p = naive_bayes_predict(msg, logprior, loglikelihood)\n",
    "print('The expected output for message \\\"',msg ,'\\\" is', p)\n",
    "\n",
    "msg = 'Offer! Limited period! free iphone.'\n",
    "p = naive_bayes_predict(msg, logprior, loglikelihood)\n",
    "print('The expected output for message \\\"',msg ,'\\\" is', p)"
   ]
  },
  {
   "cell_type": "code",
   "execution_count": 67,
   "id": "67e79811",
   "metadata": {},
   "outputs": [
    {
     "name": "stdout",
     "output_type": "stream",
     "text": [
      "get an offer -> 1\n",
      "get the latest movie review -> 1\n",
      "order iphone -> 1\n",
      "I am on a meeting -> 0\n"
     ]
    }
   ],
   "source": [
    "#more examples\n",
    "for message in ['get an offer', 'get the latest movie review', 'order iphone', 'I am on a meeting']:\n",
    "    p = naive_bayes_predict(message, logprior, loglikelihood)\n",
    "    print(f'{message} -> {p}')"
   ]
  },
  {
   "cell_type": "markdown",
   "id": "83ccc79c",
   "metadata": {},
   "source": [
    "### Testing"
   ]
  },
  {
   "cell_type": "code",
   "execution_count": 65,
   "id": "66a511e7",
   "metadata": {
    "colab": {
     "base_uri": "https://localhost:8080/"
    },
    "id": "66a511e7",
    "outputId": "bb45ea4a-12c9-4170-a48d-6e4fca94d978"
   },
   "outputs": [
    {
     "name": "stdout",
     "output_type": "stream",
     "text": [
      "Accuracy :  79.0155 %\n"
     ]
    }
   ],
   "source": [
    "def test_naive_bayes(test_x, test_y, logprior, loglikelihood):\n",
    "    \"\"\"\n",
    "    Input:\n",
    "        test_x: A list of messages\n",
    "        test_y: the corresponding labels for the list of messages\n",
    "        logprior: the logprior\n",
    "        loglikelihood: a dictionary with the loglikelihoods for each word\n",
    "    Output:\n",
    "        accuracy: (# of messages classified correctly)/(total # of message)\n",
    "    \"\"\"\n",
    "    accuracy = 0  \n",
    "    \n",
    "    y_hats = []\n",
    "    for message in test_x:\n",
    "        # if the prediction is > 0\n",
    "        if naive_bayes_predict(message, logprior, loglikelihood) > 0:\n",
    "            # the predicted class is 1\n",
    "            y_hat_i = 1\n",
    "        else:\n",
    "            # otherwise the predicted class is 0\n",
    "            y_hat_i = 0\n",
    "        # append the predicted class to the list y_hats\n",
    "        y_hats.append(y_hat_i)\n",
    "\n",
    "    # error is the average of the absolute values of the differences between y_hats and test_y\n",
    "    y_hats = np.array(y_hats)\n",
    "    test_y = np.array(test_y)\n",
    "    error = np.mean(np.absolute(y_hats-test_y))\n",
    "    accuracy = 1 - error\n",
    "   \n",
    "    return accuracy\n",
    "\n",
    "#print(test_naive_bayes(X_test, y_test, logprior, loglikelihood))\n",
    "acc = test_naive_bayes(X_test, y_test, logprior, loglikelihood)\n",
    "print(\"Accuracy : \", round(acc*100,4), \"%\")"
   ]
  },
  {
   "cell_type": "markdown",
   "id": "82e6e4d1",
   "metadata": {
    "id": "82e6e4d1"
   },
   "source": [
    "### Additional Info"
   ]
  },
  {
   "cell_type": "markdown",
   "id": "Wo5ha4O_-2iK",
   "metadata": {
    "id": "Wo5ha4O_-2iK"
   },
   "source": [
    "#### **Laplace Smoothing / Additive Smoothing**\n",
    "\n",
    "Laplace Smoothing or Additive Smoothing is used to solve the problem of zero probability for the test data, i.e. when the model receives a new observation, which is not seen in training data.\n",
    "\n",
    "\n",
    "---\n",
    "\n",
    "\n",
    "Naive Bayes predicts using the following formula :- \n",
    "\n",
    "**P(c|x) = P(x|c) P(c) ÷ P(x)**   \n",
    "\n",
    "where\n",
    "\n",
    "P(c|x) : Posterior Probability\n",
    "\n",
    "P(x|c) : Likelihood\n",
    "\n",
    "P(c)   : Class Prior Probability\n",
    "\n",
    "P(x)   : Predictor Prior Probability\n",
    "\n",
    "---\n",
    "\n",
    "**Example** \n",
    "\n",
    "Consider a model that predicts positive and negative reviews.\n",
    "\n",
    "Let r1, r2, r3 be words in review available in training data with positive label.\n",
    "\n",
    "and let r1, r2 be words in training data with negative label.\n",
    "\n",
    "Thus, P(r1|pos), P(r2|pos) and P(r3|pos) exists.\n",
    "\n",
    "While P(r1|neg), P(r2|neg) exists \n",
    "\n",
    "but  P(r3|neg) = 0 since there is no training data r3 for neg. \n",
    "\n",
    "\n",
    "Suppose query for testing is review : r1 r3 r2.\n",
    "\n",
    "P(pos | review) = P(pos) × P(r1|pos) × P(r3|pos) ×  P(r2|pos) be some positive value.\n",
    "\n",
    "P(neg | review) = P(neg) × P(r1|neg) × P(r3|neg) ×  P(r2|neg) = 0\n",
    "\n",
    "This will always be zero, irrespective of the value of P(neg) or P(r1|neg), P(r2|neg). \n",
    "\n",
    "This is because {r3, neg} was not present in training data.\n",
    "\n",
    "\n",
    "If any further reviews contain r3 as word, it will not be classified as negative, i.e. it will always be classified as positive review irrespective of other negative words presents in the review message. \n",
    "\n",
    "\n",
    "---\n",
    "\n",
    "\n",
    "To solve such zero probability problem, we use Laplace Smoothing or Additive Smoothing.\n",
    "\n",
    "A small-sample correction α, or pseudo-count, (generally α=1) is incorporated in every probability estimate. This will ensure that no probability will be zero.\n",
    "\n",
    "Thus, after correction we can correctly predict label the label of the reviews using Naive Bayes irrespective of the fact that is present in training data or not."
   ]
  },
  {
   "cell_type": "markdown",
   "id": "RG8-Ut_lAE1I",
   "metadata": {
    "id": "RG8-Ut_lAE1I"
   },
   "source": [
    "#### **Naive Bayes uses Logarithmic values over Probablistic vallues.**\n",
    "\n",
    "Naive Bayes predicts using the following formula :- \n",
    "\n",
    "**P(c|x) = P(x|c) P(c) ÷ P(x)**   \n",
    "\n",
    "where\n",
    "\n",
    "P(c|x) : Posterior Probability\n",
    "\n",
    "P(x|c) : Likelihood\n",
    "\n",
    "P(c)   : Class Prior Probability\n",
    "\n",
    "P(x)   : Predictor Prior Probability\n",
    "\n",
    "\n",
    "\n",
    "---\n",
    "\n",
    "\n",
    "Applying Naive Bayes for classes C1, C2 ... , Cn and set of features, F1, ... , Fm.\n",
    "\n",
    "Prediction = argmax(i) P(F1,F2,...,Fm | Ci)P(Ci)\n",
    "\n",
    "Prediction = argmax(i) [ P(F1|Ci) × P(F2|Ci) × ... × P(Fm|Ci) ]P(Ci)\n",
    "\n",
    "\n",
    "\n",
    "When the dataset is with large vocabulary (m), we face a computation problem for the above equation.\n",
    "\n",
    "Since each P(Fj|Ci) for j = [1:m] is between 0 and 1,\n",
    "\n",
    "when we take product of such small decimal values, the overall value tends to zero.\n",
    "\n",
    "This gets worse by each new feature that is added, as resultant product of probabilities of large features result in very small value, which often cannot be\n",
    "represented in a float/double or long double.\n",
    "Every language that uses a standard floating-point data type with a fixed number of bits will eventually\n",
    "run out of precision with extremely small numbers.\n",
    "\n",
    "\n",
    "\n",
    "---\n",
    "\n",
    "To overcome this situation, probabilities are represented as log-probabilities instead.\n",
    "\n",
    "\n",
    "\n",
    "\n",
    "*   Wider range : A probability is always between 0 and 1, but a log-probability is always between -∞ and 0. \n",
    "*   Comparison is preserved : If a < b, then ln a < ln b.\n",
    "*   Easy computation : The logarithm of a product is the sum of the logarithms. The resulting sums (rather than products) are usually manageable numbers.\n",
    "Prediction = argmax(i) { ln [P(F1|Ci)] × ln [P(F2|Ci)] × ... × ln[P(Fm|Ci)] } ln[P(Ci)]\n",
    "\n"
   ]
  }
 ],
 "metadata": {
  "colab": {
   "collapsed_sections": [
    "9163f897",
    "19d9c882",
    "6242708f",
    "8a45e4f0"
   ],
   "provenance": []
  },
  "kernelspec": {
   "display_name": "Python 3 (ipykernel)",
   "language": "python",
   "name": "python3"
  },
  "language_info": {
   "codemirror_mode": {
    "name": "ipython",
    "version": 3
   },
   "file_extension": ".py",
   "mimetype": "text/x-python",
   "name": "python",
   "nbconvert_exporter": "python",
   "pygments_lexer": "ipython3",
   "version": "3.9.12"
  }
 },
 "nbformat": 4,
 "nbformat_minor": 5
}
